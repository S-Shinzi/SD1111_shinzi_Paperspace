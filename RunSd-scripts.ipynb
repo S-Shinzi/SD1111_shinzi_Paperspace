{
 "cells": [
  {
   "cell_type": "code",
   "execution_count": null,
   "id": "580058f2-72f2-47ba-aa91-45a70eb02c78",
   "metadata": {
    "tags": []
   },
   "outputs": [],
   "source": [
    "#Download Packages\n",
    "!apt update -y && apt upgrade -y\n",
    "%cd /notebooks\n",
    "!git clone https://github.com/kohya-ss/sd-scripts.git\n",
    "\n",
    "%cd /notebooks/sd-scripts\n",
    "\n",
    "!pip install -U torch==1.13.1+cu116 torchvision==0.14.1+cu116 torchaudio==0.13.1 --extra-index-url https://download.pytorch.org/whl/cu116\n",
    "!pip install --upgrade -r requirements.txt\n",
    "!pip install -U xformers==0.0.16\n",
    "!pip install -U -r requirements.txt\n",
    "!pip install -U triton==2.0.0"
   ]
  },
  {
   "cell_type": "markdown",
   "id": "fd9e60fd-1481-4e68-982c-947f97395ca0",
   "metadata": {},
   "source": [
    "# 以下Terminal実行 \n",
    "xfromersは使わない\n",
    "\n",
    "```bash\n",
    "cd /notebooks\n",
    "\n",
    "accelerate config\n",
    "//- This machine (enter)\n",
    "//- No distributed training (enter)\n",
    "//- NO (入力)\n",
    "//- NO\n",
    "//- NO\n",
    "//- all\n",
    "//- fp16(enter)\n",
    "\n",
    "cd /notebooks/sd-scripts\n",
    "\n",
    "#command\n",
    "```"
   ]
  },
  {
   "cell_type": "code",
   "execution_count": null,
   "id": "ff4e4644-acbd-407e-8cb9-c5fde296f551",
   "metadata": {},
   "outputs": [],
   "source": [
    "!apt update -y && apt upgrade -y\n",
    "%cd /notebooks/sd-scripts\n",
    "!python -m pip install --upgrade pip\n",
    "\n",
    "!pip install -U torch==1.13.1+cu116 torchvision==0.14.1+cu116 torchaudio==0.13.1 --extra-index-url https://download.pytorch.org/whl/cu116\n",
    "!pip install --upgrade -r requirements.txt\n",
    "!pip install -U xformers==0.0.16\n",
    "!pip install -U -r requirements.txt\n",
    "!pip install -U triton==2.0.0"
   ]
  },
  {
   "cell_type": "code",
   "execution_count": null,
   "id": "727c34ad-bf89-4115-ba30-486cc9fc8a58",
   "metadata": {},
   "outputs": [],
   "source": []
  }
 ],
 "metadata": {
  "kernelspec": {
   "display_name": "testVenv",
   "language": "python",
   "name": "testvenv"
  },
  "language_info": {
   "codemirror_mode": {
    "name": "ipython",
    "version": 3
   },
   "file_extension": ".py",
   "mimetype": "text/x-python",
   "name": "python",
   "nbconvert_exporter": "python",
   "pygments_lexer": "ipython3",
   "version": "3.10.10"
  }
 },
 "nbformat": 4,
 "nbformat_minor": 5
}
