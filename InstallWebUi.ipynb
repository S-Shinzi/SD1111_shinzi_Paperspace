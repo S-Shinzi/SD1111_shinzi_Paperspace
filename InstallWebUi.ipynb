{
 "cells": [
  {
   "cell_type": "code",
   "execution_count": null,
   "metadata": {
    "id": "xAhl84XqqTju"
   },
   "outputs": [],
   "source": [
    "#stable-diffusion-webuiフォルダの削除\n",
    "!rm -rf /notebooks/stable-diffusion-webui\n",
    "!rm -rf /notebooks/outputs"
   ]
  },
  {
   "cell_type": "code",
   "execution_count": null,
   "metadata": {
    "id": "0a3t4p2aqZoz",
    "tags": []
   },
   "outputs": [],
   "source": [
    "#WebUIのインストール\n",
    "%cd /notebooks\n",
    "!git clone -b v2.1 https://github.com/camenduru/stable-diffusion-webui\n",
    "\n",
    "#Extensions\n",
    "!git clone https://github.com/alemelis/sd-webui-ar.git /notebooks/stable-diffusion-webui/extensions/sd-webui-ar\n",
    "!git clone https://github.com/yfszzx/stable-diffusion-webui-images-browser /notebooks/stable-diffusion-webui/extensions/stable-diffusion-webui-images-browser\n",
    "!git clone https://github.com/DominikDoom/a1111-sd-webui-tagcomplete.git /notebooks/stable-diffusion-webui/extensions/a1111-sd-webui-tagcomplete\n",
    "!git clone https://github.com/camenduru/stable-diffusion-webui-huggingface /notebooks/stable-diffusion-webui/extensions/stable-diffusion-webui-huggingface\n",
    "!git clone https://github.com/camenduru/sd-webui-tunnels /notebooks/stable-diffusion-webui/extensions/sd-webui-tunnels\n",
    "!git clone https://github.com/deforum-art/deforum-for-automatic1111-webui /notebooks/stable-diffusion-webui/extensions/deforum-for-automatic1111-webui\n",
    "!git clone https://github.com/toshiaki1729/stable-diffusion-webui-dataset-tag-editor.git /notebooks/stable-diffusion-webui/extensions/dataset-tag-editor\n",
    "!git clone https://github.com/bbc-mc/sdweb-merge-block-weighted-gui /notebooks/stable-diffusion-webui/extensions/sdweb-merge-block-weighted-gui\n",
    "!git clone -b v2.0 https://github.com/camenduru/sd-civitai-browser /notebooks/stable-diffusion-webui/extensions/sd-civitai-browser\n",
    "!git clone https://github.com/kohya-ss/sd-webui-additional-networks.git /notebooks/stable-diffusion-webui/extensions/sd-webui-additional-networks\n",
    "!git clone https://github.com/opparco/stable-diffusion-webui-two-shot.git /notebooks/stable-diffusion-webui/extensions/stable-diffusion-webui-two-shot\n",
    "!git apply --ignore-whitespace /notebooks/stable-diffusion-webui-two-shot/cfg_denoised_callback-ea9bd9fc.patch\n",
    "!git clone https://github.com/hallatore/stable-diffusion-webui-chatgpt-utilities /notebooks/stable-diffusion-webui/extensions/stable-diffusion-webui-chatgpt-utilities\n",
    "!git clone https://github.com/KohakuBlueleaf/a1111-sd-webui-locon.git /notebooks/stable-diffusion-webui/extensions/a1111-sd-webui-locon\n",
    "!git clone https://github.com/butaixianran/Stable-Diffusion-Webui-Civitai-Helper.git /notebooks/stable-diffusion-webui/extensions/Stable-Diffusion-Webui-Civitai-Helper\n",
    "!git clone https://github.com/hnmr293/sd-webui-cutoff /notebooks/stable-diffusion-webui/extensions/sd-webui-cutoff\n",
    "!git clone https://github.com/camenduru/openpose-editor /notebooks/stable-diffusion-webui/extensions/openpose-editor\n",
    "!git clone https://github.com/Mikubill/sd-webui-controlnet.git /notebooks/stable-diffusion-webui/extensions/sd-webui-controlnet\n",
    "!git clone https://github.com/jexom/sd-webui-depth-lib /notebooks/stable-diffusion-webui/extensions/sd-webui-depth-lib\n",
    "!git clone https://github.com/hnmr293/posex /notebooks/stable-diffusion-webui/extensions/posex\n",
    "!git clone https://github.com/adieyal/sd-dynamic-prompts /notebooks/stable-diffusion-webui/extensions/sd-dynamic-prompts\n",
    "!git clone https://github.com/etherealxx/batchlinks-webui /notebooks/stable-diffusion-webui/extensions/batchlinks-webui\n",
    "!git clone https://github.com/dustysys/ddetailer.git /notebooks/stable-diffusion-webui/extensions/ddetailer\n",
    "!git clone https://github.com/Coyote-A/ultimate-upscale-for-automatic1111 /notebooks/stable-diffusion-webui/extensions/ultimate-upscale\n",
    "!git clone https://github.com/AUTOMATIC1111/stable-diffusion-webui-rembg /notebooks/stable-diffusion-webui/extensions/stable-diffusion-webui-rembg\n",
    "%cd /notebooks/stable-diffusion-webui\n",
    "!git reset --hardsd-dynamic-prompts\n",
    "\n",
    "#EasyNegative\n",
    "!wget https://huggingface.co/datasets/gsdf/EasyNegative/resolve/main/EasyNegative.pt -O /notebooks/stable-diffusion-webui/embeddings/EasyNegative.pt"
   ]
  },
  {
   "cell_type": "code",
   "execution_count": null,
   "metadata": {
    "id": "YjSNZzTAqhJT"
   },
   "outputs": [],
   "source": [
    "!ln -s /notebooks/stable-diffusion-webui/outputs /notebooks"
   ]
  }
 ],
 "metadata": {
  "colab": {
   "provenance": []
  },
  "kernelspec": {
   "display_name": "Python 3 (ipykernel)",
   "language": "python",
   "name": "python3"
  },
  "language_info": {
   "codemirror_mode": {
    "name": "ipython",
    "version": 3
   },
   "file_extension": ".py",
   "mimetype": "text/x-python",
   "name": "python",
   "nbconvert_exporter": "python",
   "pygments_lexer": "ipython3",
   "version": "3.9.16"
  }
 },
 "nbformat": 4,
 "nbformat_minor": 4
}
