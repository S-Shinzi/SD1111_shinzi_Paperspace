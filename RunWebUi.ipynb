{
 "cells": [
  {
   "cell_type": "code",
   "execution_count": null,
   "metadata": {
    "id": "p9k44BpJrdQw",
    "tags": []
   },
   "outputs": [],
   "source": [
    "#パッケージダウンロード(初回のWebUIの起動時のみ)\n",
    "%cd /notebooks\n",
    "!pip install torch==1.13.1+cu116 torchvision==0.14.1+cu116 torchaudio==0.13.1 --extra-index-url https://download.pytorch.org/whl/cu116 -U\n",
    "!pip install -q xformers==0.0.16\n",
    "!pip install -q triton==2.0.0\n",
    "\n",
    "!pip install Cython\n",
    "!pip insatll numpy\n",
    "!pip install -U openmim\n",
    "!mim install -U mmengine\n",
    "!mim install -U mmcv-full\n",
    "!pip install -U mmdet==2.28.2\n",
    "!pip install -U \"git+https://github.com/philferriere/cocoapi.git#egg=pycocotools&subdirectory=PythonAPI\""
   ]
  },
  {
   "cell_type": "code",
   "execution_count": null,
   "metadata": {
    "id": "-dDw4Qk1reAQ"
   },
   "outputs": [],
   "source": [
    "#WebUIの起動\n",
    "%cd /notebooks/stable-diffusion-webui\n",
    "!sed -i -e 's/\\\"sd_model_checkpoint\\\"\\,/\\\"sd_model_checkpoint\\,sd_vae\\,CLIP_stop_at_last_layers\\\"\\,/g' /notebooks/stable-diffusion-webui/modules/shared.py\n",
    "!python launch.py --share --xformers --enable-insecure-extension-access --gradio-queue --no-half-vae --gradio-auth sdUser:sdMasahito"
   ]
  },
  {
   "cell_type": "code",
   "execution_count": null,
   "metadata": {
    "id": "3dQ_9SkJrhgp"
   },
   "outputs": [],
   "source": [
    "#画像をzipファイルにして保存\n",
    "%cd /notebooks/stable-diffusion-webui\n",
    "!apt -y update -qq\n",
    "!apt -y install -qq p7zip-full\n",
    "!7z a -mx=9 /notebooks/Archive_outputs.7z outputs"
   ]
  }
 ],
 "metadata": {
  "colab": {
   "provenance": []
  },
  "kernelspec": {
   "display_name": "Python 3 (ipykernel)",
   "language": "python",
   "name": "python3"
  },
  "language_info": {
   "codemirror_mode": {
    "name": "ipython",
    "version": 3
   },
   "file_extension": ".py",
   "mimetype": "text/x-python",
   "name": "python",
   "nbconvert_exporter": "python",
   "pygments_lexer": "ipython3",
   "version": "3.9.16"
  }
 },
 "nbformat": 4,
 "nbformat_minor": 4
}
