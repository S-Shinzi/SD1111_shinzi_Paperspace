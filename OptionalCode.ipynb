{
 "cells": [
  {
   "cell_type": "markdown",
   "id": "87b52ff0-5d8d-407f-a5ba-4eeef1568718",
   "metadata": {},
   "source": [
    "# 参考サイト  \n",
    "\n",
    "Notebook Fork 元(要note Login)  \n",
    "[【Stable Diffusion WebUI】Paperspaceを利用してより高速なAI画像生成に挑戦！/ LoRA･ControlNet 1.1･Latent Couple対応（無料・有料プラン）](https://note.com/ai_nios/n/n2203de79bc16)  \n",
    "\n",
    "WebUI github  \n",
    "[Stable Diffusion web UI](https://github.com/AUTOMATIC1111/stable-diffusion-webui)  \n",
    "\n",
    "Detection Detailer関連  \n",
    "[ModuleNotFoundError: No module named 'mmcv._ext' #3271](https://github.com/open-mmlab/mmdetection/issues/3271#issuecomment-656978445)  \n",
    "[guys,if u get problem “mmdet.core'” just Roll back version of mmdet. #41](https://github.com/dustysys/ddetailer/issues/41)  \n",
    "\n",
    "ultimate-upscale-for-automatic1111  \n",
    "[FAQ](https://github.com/Coyote-A/ultimate-upscale-for-automatic1111/wiki/FAQ#parameters-descriptions)"
   ]
  },
  {
   "cell_type": "markdown",
   "id": "a7fb7d83-7738-42b5-90b9-1387d58de59f",
   "metadata": {},
   "source": [
    "# Update WebUi"
   ]
  },
  {
   "cell_type": "code",
   "execution_count": null,
   "id": "63cae5da-c3ba-4b48-85c7-c3ab103daf89",
   "metadata": {},
   "outputs": [],
   "source": [
    "#Update WebUI\n",
    "%cd /notebooks\n",
    "!git pull"
   ]
  },
  {
   "cell_type": "markdown",
   "id": "330a40ee-3e0b-48e3-ae51-d15d277436a5",
   "metadata": {},
   "source": [
    "# Remove outputs"
   ]
  },
  {
   "cell_type": "code",
   "execution_count": null,
   "id": "131d025c-1767-424a-b831-b4b7c745ff6e",
   "metadata": {},
   "outputs": [],
   "source": [
    "!rm -rdf /notebooks/stable-diffusion-webui/outputs/*"
   ]
  },
  {
   "cell_type": "markdown",
   "id": "aa4b20e4-98db-42ab-b6d0-0d0a1f060b16",
   "metadata": {
    "tags": []
   },
   "source": [
    "# System Check"
   ]
  },
  {
   "cell_type": "code",
   "execution_count": null,
   "id": "d59e8140-d42a-4b63-9648-d315469ce75b",
   "metadata": {},
   "outputs": [],
   "source": [
    "!pip list | grep torch"
   ]
  },
  {
   "cell_type": "code",
   "execution_count": null,
   "id": "0cd7fe2d-2541-4661-be2c-022c87135942",
   "metadata": {},
   "outputs": [],
   "source": [
    "#check Directory Usage top 10\n",
    "!du -m /notebooks | sort -n | tail -10"
   ]
  },
  {
   "cell_type": "code",
   "execution_count": null,
   "id": "be826303-e8c8-4f20-979c-3b48880a2cd8",
   "metadata": {},
   "outputs": [],
   "source": [
    "#check System info\n",
    "!uname -a"
   ]
  },
  {
   "cell_type": "code",
   "execution_count": null,
   "id": "9d4ee859-4212-48f2-82ca-c3133c3b3e75",
   "metadata": {},
   "outputs": [],
   "source": [
    "#check CUDA Version\n",
    "!nvcc -V"
   ]
  },
  {
   "cell_type": "code",
   "execution_count": null,
   "id": "8014036b-70e9-4930-a298-c799c4eb6c3c",
   "metadata": {},
   "outputs": [],
   "source": [
    "#check graphic bord\n",
    "!nvidia-smi"
   ]
  }
 ],
 "metadata": {
  "kernelspec": {
   "display_name": "Python 3 (ipykernel)",
   "language": "python",
   "name": "python3"
  },
  "language_info": {
   "codemirror_mode": {
    "name": "ipython",
    "version": 3
   },
   "file_extension": ".py",
   "mimetype": "text/x-python",
   "name": "python",
   "nbconvert_exporter": "python",
   "pygments_lexer": "ipython3",
   "version": "3.10.10"
  }
 },
 "nbformat": 4,
 "nbformat_minor": 5
}
