{
 "cells": [
  {
   "cell_type": "markdown",
   "id": "0653dc08-b08a-4bca-a997-a95f054c5c23",
   "metadata": {},
   "source": [
    "# Google Drive operation  \n",
    "## 参考サイト  \n",
    "[AUTOMATIC1111をPaperspace Gradientで実行し， Google Driveに画像を送る（認証にサービスアカウントを利用するVer.）](https://nintech.jp/2023/02/10/automatic1111%E3%82%92paperspace-gradient%E3%81%A7%E5%AE%9F%E8%A1%8C%E3%81%97%EF%BC%8C-google-drive%E3%81%AB%E7%94%BB%E5%83%8F%E3%82%92%E9%80%81%E3%82%8B%EF%BC%88%E8%AA%8D%E8%A8%BC%E3%81%AB%E3%82%B5/)  \n",
    "  \n",
    "「Googleの認証」セクション参照  \n",
    "[PyDriveによりPythonからGoogleドライブを操作する【OAuth使わず】](https://self-development.info/pydrive%E3%81%AB%E3%82%88%E3%82%8Apython%E3%81%8B%E3%82%89google%E3%83%89%E3%83%A9%E3%82%A4%E3%83%96%E3%82%92%E6%93%8D%E4%BD%9C%E3%81%99%E3%82%8B%E3%80%90oauth%E4%BD%BF%E3%82%8F%E3%81%9A%E3%80%91/)  \n",
    "[gspreadをインストールしてGoogleスプレッドシートをPythonで操作する](https://self-development.info/gspread%e3%82%92%e3%82%a4%e3%83%b3%e3%82%b9%e3%83%88%e3%83%bc%e3%83%ab%e3%81%97%e3%81%a6google%e3%82%b9%e3%83%97%e3%83%ac%e3%83%83%e3%83%89%e3%82%b7%e3%83%bc%e3%83%88%e3%82%92python%e3%81%a7%e6%93%8d/)  \n",
    "\n",
    "ソースコード参照  \n",
    "[Google ドライブのファイルを Python でダウンロードする](https://qiita.com/koji4104/items/618c9dad0140cc1558e3)  \n"
   ]
  },
  {
   "cell_type": "markdown",
   "id": "124e9dfd-fa42-44ad-bbea-24e836896a00",
   "metadata": {},
   "source": [
    "# Setup"
   ]
  },
  {
   "cell_type": "code",
   "execution_count": null,
   "id": "383559ce-ce23-487d-a051-077e57d4e20a",
   "metadata": {},
   "outputs": [],
   "source": [
    "# setup\n",
    "%cd /notebooks\n",
    "\n",
    "!pip install PyDrive\n",
    "!pip install gdown\n",
    "!pip install --upgrade gdown\n",
    "!pip install -q --upgrade google-api-python-client google-auth-httplib2 google-auth-oauthlib"
   ]
  },
  {
   "cell_type": "markdown",
   "id": "fb382bfd-5d6d-4152-ac7f-ffe2c1317a4d",
   "metadata": {},
   "source": [
    "# Sync GoogleDrive"
   ]
  },
  {
   "cell_type": "code",
   "execution_count": null,
   "id": "672e463a-7463-4429-9c6b-83e84a57a2ad",
   "metadata": {},
   "outputs": [],
   "source": [
    "# fill SHARE_FOLDER_ID\n",
    "from googleapiclient.discovery import build\n",
    "from google.oauth2 import service_account\n",
    "from googleapiclient.errors import HttpError as HTTPError\n",
    "from httplib2 import Http\n",
    "import os\n",
    "import io\n",
    "import shutil\n",
    "\n",
    "# pip install -q --upgrade google-api-python-client google-auth-httplib2 google-auth-oauthlib\n",
    "from googleapiclient.http import MediaIoBaseDownload\n",
    "\n",
    "SCOPES = ['https://www.googleapis.com/auth/drive']\n",
    "SHARE_FOLDER_ID = '18iQra2qjW-RUbqMp3boTmT6d8DDPUBHL'\n",
    "\n",
    "sa_creds = service_account.Credentials.from_service_account_file( 'service_account.json')\n",
    "scoped_creds = sa_creds.with_scopes(SCOPES)\n",
    "drive_service = build('drive', 'v3', credentials=scoped_creds)\n",
    "response = drive_service.files().list( supportsAllDrives=True, includeItemsFromAllDrives=True, q=f\"parents in '{SHARE_FOLDER_ID}' and trashed = false\", fields=\"nextPageToken, files(id, name)\").execute()\n",
    "\n",
    "files = response.get('files', [])\n",
    "for file in response.get('files', []): print(f\"Found file: {file.get('name')} ({file.get('id')})\")\n",
    "\n",
    "if not os.path.isdir(\"/notebooks/GoogleDrive\"):\n",
    "    os.mkdir(\"/notebooks/GoogleDrive\")\n",
    "\n",
    "if files:\n",
    "    #Clear directory\n",
    "    shutil.rmtree(\"/notebooks/GoogleDrive\")\n",
    "    os.mkdir(\"/notebooks/GoogleDrive\")\n",
    "    for file in files:\n",
    "        request = drive_service.files().get_media(fileId=file['id'])\n",
    "        fh = io.FileIO(\"/notebooks/GoogleDrive/\"+file['name'], mode='wb')\n",
    "        downloader = MediaIoBaseDownload(fh, request)\n",
    "        done = False\n",
    "        while not done:\n",
    "            _, done = downloader.next_chunk()"
   ]
  },
  {
   "cell_type": "code",
   "execution_count": null,
   "id": "6dacfe0f-6642-4175-adec-930169800cab",
   "metadata": {},
   "outputs": [],
   "source": []
  }
 ],
 "metadata": {
  "kernelspec": {
   "display_name": "Python 3 (ipykernel)",
   "language": "python",
   "name": "python3"
  },
  "language_info": {
   "codemirror_mode": {
    "name": "ipython",
    "version": 3
   },
   "file_extension": ".py",
   "mimetype": "text/x-python",
   "name": "python",
   "nbconvert_exporter": "python",
   "pygments_lexer": "ipython3",
   "version": "3.10.10"
  }
 },
 "nbformat": 4,
 "nbformat_minor": 5
}
